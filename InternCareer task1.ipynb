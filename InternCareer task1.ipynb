{
 "cells": [
  {
   "cell_type": "code",
   "execution_count": 5,
   "id": "48e4b5b4",
   "metadata": {},
   "outputs": [],
   "source": [
    "# Import necessary libraries\n",
    "import pandas as pd\n",
    "import numpy as np\n",
    "import matplotlib.pyplot as plt\n",
    "import seaborn as sns\n"
   ]
  },
  {
   "cell_type": "code",
   "execution_count": 6,
   "id": "7d7868b3",
   "metadata": {},
   "outputs": [],
   "source": [
    "# Load the dataset\n",
    "df = pd.read_csv(r\"C:\\Users\\shrey\\Downloads\\youtubers_df.csv\")\n"
   ]
  },
  {
   "cell_type": "code",
   "execution_count": 9,
   "id": "410e997d",
   "metadata": {},
   "outputs": [
    {
     "name": "stdout",
     "output_type": "stream",
     "text": [
      "   Rank       Username           Categories   Suscribers         Country  \\\n",
      "0     1        tseries       Música y baile  249500000.0           India   \n",
      "1     2        MrBeast   Videojuegos, Humor  183500000.0  Estados Unidos   \n",
      "2     3      CoComelon            Educación  165500000.0         Unknown   \n",
      "3     4       SETIndia                  NaN  162600000.0           India   \n",
      "4     5  KidsDianaShow  Animación, Juguetes  113500000.0         Unknown   \n",
      "\n",
      "        Visits      Likes  Comments  \\\n",
      "0      86200.0     2700.0      78.0   \n",
      "1  117400000.0  5300000.0   18500.0   \n",
      "2    7000000.0    24700.0       0.0   \n",
      "3      15600.0      166.0       9.0   \n",
      "4    3900000.0    12400.0       0.0   \n",
      "\n",
      "                                               Links  \n",
      "0  http://youtube.com/channel/UCq-Fj5jknLsUf-MWSy...  \n",
      "1  http://youtube.com/channel/UCX6OQ3DkcsbYNE6H8u...  \n",
      "2  http://youtube.com/channel/UCbCmjCuTUZos6Inko4...  \n",
      "3  http://youtube.com/channel/UCpEhnqL0y41EpW2TvW...  \n",
      "4  http://youtube.com/channel/UCk8GzjMOrta8yxDcKf...  \n",
      "Rank            0\n",
      "Username        0\n",
      "Categories    306\n",
      "Suscribers      0\n",
      "Country         0\n",
      "Visits          0\n",
      "Likes           0\n",
      "Comments        0\n",
      "Links           0\n",
      "dtype: int64\n"
     ]
    },
    {
     "data": {
      "image/png": "[encoded data removed]",
      "text/plain": [
       "<Figure size 640x480 with 1 Axes>"
      ]
     },
     "metadata": {},
     "output_type": "display_data"
    }
   ],
   "source": [
    "# Check structure and key variables\n",
    "print(df.head())\n",
    "\n",
    "# Check for missing data\n",
    "print(df.isnull().sum())\n",
    "\n",
    "# Check for outliers\n",
    "sns.boxplot(x=df['Suscribers'])  # Correct the column name to 'Suscribers'\n",
    "plt.show()\n"
   ]
  },
  {
   "cell_type": "code",
   "execution_count": 10,
   "id": "9bc506e6",
   "metadata": {},
   "outputs": [
    {
     "name": "stdout",
     "output_type": "stream",
     "text": [
      "Categories\n",
      "Música y baile               160\n",
      "Películas, Animación          61\n",
      "Música y baile, Películas     41\n",
      "Vlogs diarios                 37\n",
      "Noticias y Política           36\n",
      "Name: count, dtype: int64\n",
      "Correlation with Likes: 0.21163868368008104\n",
      "Correlation with Comments: 0.0363498261610543\n"
     ]
    }
   ],
   "source": [
    "# Most popular categories\n",
    "top_categories = df['Categories'].value_counts().head(5)\n",
    "print(top_categories)\n",
    "\n",
    "# Correlation between subscribers and likes/comments\n",
    "correlation_likes = df['Suscribers'].corr(df['Likes'])\n",
    "correlation_comments = df['Suscribers'].corr(df['Comments'])\n",
    "print(f\"Correlation with Likes: {correlation_likes}\\nCorrelation with Comments: {correlation_comments}\")\n"
   ]
  },
  {
   "cell_type": "code",
   "execution_count": 11,
   "id": "da0888ed",
   "metadata": {},
   "outputs": [
    {
     "name": "stdout",
     "output_type": "stream",
     "text": [
      "Country\n",
      "Estados Unidos    293\n",
      "India             241\n",
      "Unknown           171\n",
      "Brasil             64\n",
      "México             58\n",
      "Indonesia          38\n",
      "Rusia              25\n",
      "Tailandia          18\n",
      "Colombia           16\n",
      "Filipinas          13\n",
      "Pakistán           11\n",
      "Argentina           7\n",
      "Egipto              5\n",
      "Arabia Saudita      4\n",
      "Francia             4\n",
      "España              4\n",
      "Turquía             4\n",
      "Iraq                4\n",
      "Japón               3\n",
      "Bangladesh          3\n",
      "Reino Unido         3\n",
      "Argelia             2\n",
      "Marruecos           2\n",
      "Perú                2\n",
      "Somalia             1\n",
      "Ecuador             1\n",
      "Singapur            1\n",
      "El Salvador         1\n",
      "Jordania            1\n",
      "Name: Rank, dtype: int64\n"
     ]
    }
   ],
   "source": [
    "# Distribution of streamers' audiences by country\n",
    "audience_by_country = df.groupby('Country')['Rank'].count().sort_values(ascending=False)\n",
    "print(audience_by_country)\n"
   ]
  },
  {
   "cell_type": "code",
   "execution_count": 12,
   "id": "f88f5b13",
   "metadata": {},
   "outputs": [
    {
     "name": "stdout",
     "output_type": "stream",
     "text": [
      "Suscribers    2.189440e+07\n",
      "Visits        1.209446e+06\n",
      "Likes         5.363259e+04\n",
      "Comments      1.288768e+03\n",
      "dtype: float64\n"
     ]
    }
   ],
   "source": [
    "# Average subscribers, visits, likes, comments\n",
    "avg_metrics = df[['Suscribers', 'Visits', 'Likes', 'Comments']].mean()\n",
    "print(avg_metrics)\n"
   ]
  },
  {
   "cell_type": "code",
   "execution_count": 13,
   "id": "249b0f51",
   "metadata": {},
   "outputs": [
    {
     "name": "stdout",
     "output_type": "stream",
     "text": [
      "Categories\n",
      "Música y baile                        160\n",
      "Películas, Animación                   61\n",
      "Música y baile, Películas              41\n",
      "Vlogs diarios                          37\n",
      "Noticias y Política                    36\n",
      "Películas, Humor                       34\n",
      "Animación, Videojuegos                 34\n",
      "Animación, Juguetes                    29\n",
      "Animación, Humor                       27\n",
      "Películas                              24\n",
      "Educación                              24\n",
      "Animación                              22\n",
      "Videojuegos                            19\n",
      "Videojuegos, Humor                     17\n",
      "Música y baile, Animación              16\n",
      "Ciencia y tecnología                   14\n",
      "Comida y bebida                        12\n",
      "Humor                                  10\n",
      "Juguetes                               10\n",
      "Películas, Juguetes                     9\n",
      "Películas, Videojuegos                  8\n",
      "Deportes                                8\n",
      "Música y baile, Humor                   6\n",
      "Juguetes, Coches y vehículos            4\n",
      "DIY y Life Hacks                        3\n",
      "Fitness, Salud y autoayuda              3\n",
      "Videojuegos, Juguetes                   3\n",
      "Animales y mascotas                     2\n",
      "Moda                                    2\n",
      "Coches y vehículos                      2\n",
      "Educación, Juguetes                     2\n",
      "Fitness                                 2\n",
      "Comida y bebida, Juguetes               1\n",
      "ASMR, Comida y bebida                   1\n",
      "Animación, Humor, Juguetes              1\n",
      "Diseño/arte, Belleza                    1\n",
      "Belleza, Moda                           1\n",
      "ASMR                                    1\n",
      "Música y baile, Juguetes                1\n",
      "Diseño/arte, DIY y Life Hacks           1\n",
      "DIY y Life Hacks, Juguetes              1\n",
      "Diseño/arte                             1\n",
      "Comida y bebida, Salud y autoayuda      1\n",
      "Viajes, Espectáculos                    1\n",
      "Juguetes, DIY y Life Hacks              1\n",
      "Name: count, dtype: int64\n"
     ]
    }
   ],
   "source": [
    "# Distribution of content categories\n",
    "category_distribution = df['Categories'].value_counts()\n",
    "print(category_distribution)\n"
   ]
  },
  {
   "cell_type": "code",
   "execution_count": 15,
   "id": "309c2b41",
   "metadata": {},
   "outputs": [
    {
     "name": "stdout",
     "output_type": "stream",
     "text": [
      "Index(['Rank', 'Username', 'Categories', 'Suscribers', 'Country', 'Visits',\n",
      "       'Likes', 'Comments', 'Links'],\n",
      "      dtype='object')\n"
     ]
    }
   ],
   "source": [
    "# Print the column names\n",
    "print(df.columns)\n"
   ]
  },
  {
   "cell_type": "code",
   "execution_count": 16,
   "id": "53d0b831",
   "metadata": {},
   "outputs": [
    {
     "name": "stdout",
     "output_type": "stream",
     "text": [
      "Has_Brand_Collaborations\n",
      "True    1000\n",
      "Name: Rank, dtype: int64\n"
     ]
    }
   ],
   "source": [
    "# Cell 8: Brands and Collaborations\n",
    "# Analyze brand collaborations using the 'Links' column\n",
    "df['Has_Brand_Collaborations'] = df['Links'].notnull()\n",
    "\n",
    "# Count the number of YouTubers with brand collaborations\n",
    "brand_collaborations = df.groupby('Has_Brand_Collaborations')['Rank'].count()\n",
    "print(brand_collaborations)\n"
   ]
  },
  {
   "cell_type": "code",
   "execution_count": 17,
   "id": "36009de4",
   "metadata": {},
   "outputs": [
    {
     "name": "stdout",
     "output_type": "stream",
     "text": [
      "     Rank          Username                 Categories   Suscribers  \\\n",
      "0       1           tseries             Música y baile  249500000.0   \n",
      "1       2           MrBeast         Videojuegos, Humor  183500000.0   \n",
      "2       3         CoComelon                  Educación  165500000.0   \n",
      "3       4          SETIndia                        NaN  162600000.0   \n",
      "4       5     KidsDianaShow        Animación, Juguetes  113500000.0   \n",
      "..    ...               ...                        ...          ...   \n",
      "298   299       williesalim           Películas, Humor   21900000.0   \n",
      "299   300     SMOL_official                        NaN   21900000.0   \n",
      "300   301      alfredolarin                        NaN   21900000.0   \n",
      "301   302  TlnovelasOficial  Música y baile, Animación   21900000.0   \n",
      "302   303        royaltyfam                      Humor   21900000.0   \n",
      "\n",
      "            Country       Visits      Likes  Comments  \\\n",
      "0             India      86200.0     2700.0      78.0   \n",
      "1    Estados Unidos  117400000.0  5300000.0   18500.0   \n",
      "2           Unknown    7000000.0    24700.0       0.0   \n",
      "3             India      15600.0      166.0       9.0   \n",
      "4           Unknown    3900000.0    12400.0       0.0   \n",
      "..              ...          ...        ...       ...   \n",
      "298       Indonesia     396200.0        0.0    2800.0   \n",
      "299           India     114500.0     2600.0       5.0   \n",
      "300     El Salvador   12900000.0   707600.0    2100.0   \n",
      "301          México       5500.0      152.0       5.0   \n",
      "302  Estados Unidos    4700000.0    67000.0    6600.0   \n",
      "\n",
      "                                                 Links  \\\n",
      "0    http://youtube.com/channel/UCq-Fj5jknLsUf-MWSy...   \n",
      "1    http://youtube.com/channel/UCX6OQ3DkcsbYNE6H8u...   \n",
      "2    http://youtube.com/channel/UCbCmjCuTUZos6Inko4...   \n",
      "3    http://youtube.com/channel/UCpEhnqL0y41EpW2TvW...   \n",
      "4    http://youtube.com/channel/UCk8GzjMOrta8yxDcKf...   \n",
      "..                                                 ...   \n",
      "298  http://youtube.com/channel/UCPCaXSwaos-QI03iZt...   \n",
      "299  http://youtube.com/channel/UCBBZ7No0AzEJ3qiatj...   \n",
      "300  http://youtube.com/channel/UCd5ApCORQsMOZZz5E9...   \n",
      "301  http://youtube.com/channel/UCKyU-wd-KY4PMOcOpP...   \n",
      "302  http://youtube.com/channel/UCja7QUMRG9AD8X2F_v...   \n",
      "\n",
      "     Has_Brand_Collaborations  \n",
      "0                        True  \n",
      "1                        True  \n",
      "2                        True  \n",
      "3                        True  \n",
      "4                        True  \n",
      "..                        ...  \n",
      "298                      True  \n",
      "299                      True  \n",
      "300                      True  \n",
      "301                      True  \n",
      "302                      True  \n",
      "\n",
      "[303 rows x 10 columns]\n"
     ]
    }
   ],
   "source": [
    "# Identify top-performing content creators\n",
    "top_performers = df[df['Suscribers'] > df['Suscribers'].mean()]\n",
    "print(top_performers)\n"
   ]
  },
  {
   "cell_type": "code",
   "execution_count": 18,
   "id": "0c1cdd83",
   "metadata": {},
   "outputs": [],
   "source": [
    "# Propose a system for enhancing content recommendations (could involve machine learning)\n"
   ]
  },
  {
   "cell_type": "code",
   "execution_count": null,
   "id": "018775c4",
   "metadata": {},
   "outputs": [],
   "source": []
  }
 ],
 "metadata": {
  "kernelspec": {
   "display_name": "Python 3 (ipykernel)",
   "language": "python",
   "name": "python3"
  },
  "language_info": {
   "codemirror_mode": {
    "name": "ipython",
    "version": 3
   },
   "file_extension": ".py",
   "mimetype": "text/x-python",
   "name": "python",
   "nbconvert_exporter": "python",
   "pygments_lexer": "ipython3",
   "version": "3.11.5"
  }
 },
 "nbformat": 4,
 "nbformat_minor": 5
}
